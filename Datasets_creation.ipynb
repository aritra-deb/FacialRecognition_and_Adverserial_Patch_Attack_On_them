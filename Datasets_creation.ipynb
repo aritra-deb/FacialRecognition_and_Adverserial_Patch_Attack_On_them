{
 "cells": [
  {
   "cell_type": "code",
   "execution_count": 1,
   "id": "e912e599",
   "metadata": {},
   "outputs": [],
   "source": [
    "import zipfile\n",
    "import os\n",
    "\n",
    "# zip_file_path = \"/home/aritra/AML_Files/Facial Data-20240205T111158Z-001.zip\"\n",
    "# extracted_folder_path = \"/home/aritra/AML_Files/Facial_Data\"\n",
    "\n",
    "# # Create the target directory if it doesn't exist\n",
    "# os.makedirs(extracted_folder_path, exist_ok=True)\n",
    "\n",
    "# # Open the zip file\n",
    "# with zipfile.ZipFile(zip_file_path, 'r') as zip_ref:\n",
    "#     # Extract all the contents into the target directory\n",
    "#     zip_ref.extractall(extracted_folder_path)\n",
    "\n",
    "# print(f\"Successfully extracted the contents to: {extracted_folder_path}\")\n"
   ]
  },
  {
   "cell_type": "code",
   "execution_count": null,
   "id": "61674dfd",
   "metadata": {},
   "outputs": [],
   "source": []
  },
  {
   "cell_type": "code",
   "execution_count": null,
   "id": "c973ef8b",
   "metadata": {},
   "outputs": [],
   "source": []
  },
  {
   "cell_type": "code",
   "execution_count": null,
   "id": "ea6350b4",
   "metadata": {},
   "outputs": [],
   "source": []
  },
  {
   "cell_type": "code",
   "execution_count": 8,
   "id": "af6e4821",
   "metadata": {},
   "outputs": [
    {
     "data": {
      "text/plain": [
       "100"
      ]
     },
     "execution_count": 8,
     "metadata": {},
     "output_type": "execute_result"
    }
   ],
   "source": [
    "len(os.listdir(\"/home/aritra/AML_Files/Facial_Data/Facial Data/Sayani/Class2Alia\"))"
   ]
  },
  {
   "cell_type": "code",
   "execution_count": null,
   "id": "a0d7d720",
   "metadata": {},
   "outputs": [],
   "source": [
    "import os\n",
    "import shutil\n",
    "import random\n",
    "\n",
    "folder_path = '/home/aritra/AML_Files/Facial_Data/Facial Data'\n",
    "training_path = '/home/aritra/AML_Files/Facial_Train'\n",
    "\n",
    "if not os.path.exists(training_path):\n",
    "    os.makedirs(training_path)\n",
    "\n",
    "for folder in folder_names:\n",
    "    folder_full_path = os.path.join(folder_path, folder)\n",
    "    training_folder_path = os.path.join(training_path, folder)\n",
    "\n",
    "    if not os.path.exists(training_folder_path):\n",
    "        os.makedirs(training_folder_path)\n",
    "\n",
    "    images = os.listdir(folder_full_path)\n",
    "\n",
    "    # Calculate the number of images to move to the training set (70%)\n",
    "    num_training_images = int(0.7 * len(images))\n",
    "\n",
    "    # Randomly select images for training\n",
    "    training_images = random.sample(images, num_training_images)\n",
    "\n",
    "    # Move selected images to the training folder\n",
    "    for image in training_images:\n",
    "        image_path = os.path.join(folder_full_path, image)\n",
    "        destination_path = os.path.join(training_folder_path, image)\n",
    "        shutil.move(image_path, destination_path)\n",
    "\n",
    "print(\"Training set created successfully!\")\n"
   ]
  },
  {
   "cell_type": "code",
   "execution_count": 6,
   "id": "1d603bc9",
   "metadata": {},
   "outputs": [],
   "source": [
    "# folder_path = '/home/aritra/AML_Files/Facial_Train'\n",
    "\n",
    "# folder_names = sorted(os.listdir(folder_path))\n",
    "\n",
    "# for folder in folder_names:\n",
    "#     print(f' {folder} : {len(os.listdir(os.path.join(folder_path,folder)))}')"
   ]
  },
  {
   "cell_type": "markdown",
   "id": "30299838",
   "metadata": {},
   "source": [
    "# getting the 70 percent images after extracting 70 percentage of data for training "
   ]
  },
  {
   "cell_type": "code",
   "execution_count": 5,
   "id": "c7a8414e",
   "metadata": {},
   "outputs": [
    {
     "name": "stdout",
     "output_type": "stream",
     "text": [
      "Training set created successfully!\n"
     ]
    }
   ],
   "source": [
    "import os\n",
    "import shutil\n",
    "import random\n",
    "\n",
    "# Set the path for your data\n",
    "folder_path = '/home/aritra/AML_Files/Facial_Data/Facial Data'\n",
    "valid_path = '/home/aritra/AML_Files/Facial_Valid'\n",
    "\n",
    "# Create the training folder if it doesn't exist\n",
    "if not os.path.exists(valid_path):\n",
    "    os.makedirs(valid_path)\n",
    "\n",
    "# Iterate through each folder in the original data\n",
    "for folder in folder_names:\n",
    "    folder_full_path = os.path.join(folder_path, folder)\n",
    "    valid_folder_path = os.path.join(valid_path, folder)\n",
    "\n",
    "    # Create a folder in the training set for the current person\n",
    "    if not os.path.exists(valid_folder_path):\n",
    "        os.makedirs(valid_folder_path)\n",
    "\n",
    "    # Get the list of images in the original folder\n",
    "    images = os.listdir(folder_full_path)\n",
    "\n",
    "    # Calculate the number of images to move to the training set (70%)\n",
    "    num_valid_images = int(0.7 * len(images))\n",
    "\n",
    "    # Randomly select images for training\n",
    "    valid_images = random.sample(images, num_valid_images)\n",
    "\n",
    "    # Move selected images to the training folder\n",
    "    for image in valid_images:\n",
    "        image_path = os.path.join(folder_full_path, image)\n",
    "        destination_path = os.path.join(valid_folder_path, image)\n",
    "        shutil.move(image_path, destination_path)\n",
    "\n",
    "print(\"Training set created successfully!\")\n"
   ]
  },
  {
   "cell_type": "code",
   "execution_count": 18,
   "id": "8bba6798",
   "metadata": {},
   "outputs": [
    {
     "name": "stdout",
     "output_type": "stream",
     "text": [
      " .ipynb_checkpoints : 0\n",
      " Aakash : 12\n",
      " Abhishek Kumar  : 21\n",
      " Adah_sharma : 21\n",
      " AditiShukla : 48\n",
      " Aditya_Sharma_12140070 : 21\n",
      " Alia : 21\n",
      " Amogh : 23\n",
      " Animesh Singh : 23\n",
      " Anumula Chaitanya Sai : 21\n",
      " Aritra : 21\n",
      " Aryan Kumar : 21\n",
      " Brishti : 42\n",
      " Deepika : 21\n",
      " Kishan : 18\n",
      " Mallikarjun : 21\n",
      " Mohit Agarwala : 21\n",
      " Moyank Giri : 24\n",
      " Naveetha : 21\n",
      " Prarabdh : 16\n",
      " Rahul_12310890 : 21\n",
      " Sanjib Patra  : 21\n",
      " Uplab Rajak : 21\n",
      " Vaibhav_Arora : 25\n",
      " Vishesh_Thakur : 21\n",
      " harshit kumar : 19\n",
      " manish rai : 20\n",
      " rashmika_mandanna : 21\n",
      " tanmoy : 21\n"
     ]
    }
   ],
   "source": [
    "folder_path = '/home/aritra/AML_Files/Facial_Valid'\n",
    "\n",
    "folder_names = sorted(os.listdir(folder_path))\n",
    "\n",
    "for folder in folder_names:\n",
    "    print(f' {folder} : {len(os.listdir(os.path.join(folder_path,folder)))}')"
   ]
  },
  {
   "cell_type": "code",
   "execution_count": 23,
   "id": "b00732f9",
   "metadata": {},
   "outputs": [
    {
     "name": "stdout",
     "output_type": "stream",
     "text": [
      "Skipping directory: .ipynb_checkpoints\n",
      " No.of dropped Aakash : 0\n",
      " No.of dropped Abhishek Kumar  : 0\n",
      " No.of dropped Adah_sharma : 7\n",
      " No.of dropped AditiShukla : 1\n",
      " No.of dropped Aditya_Sharma_12140070 : 0\n",
      " No.of dropped Alia : 0\n",
      " No.of dropped Amogh : 0\n",
      " No.of dropped Animesh Singh : 0\n",
      " No.of dropped Anumula Chaitanya Sai : 0\n",
      " No.of dropped Aritra : 0\n",
      " No.of dropped Aryan Kumar : 0\n",
      " No.of dropped Brishti : 0\n",
      " No.of dropped Deepika : 0\n",
      " No.of dropped Kishan : 0\n",
      " No.of dropped Mallikarjun : 0\n",
      " No.of dropped Mohit Agarwala : 0\n",
      " No.of dropped Moyank Giri : 5\n",
      " No.of dropped Naveetha : 3\n",
      " No.of dropped Prarabdh : 0\n",
      " No.of dropped Rahul_12310890 : 0\n",
      " No.of dropped Sanjib Patra  : 0\n",
      " No.of dropped Uplab Rajak : 0\n",
      " No.of dropped Vaibhav_Arora : 0\n",
      " No.of dropped Vishesh_Thakur : 0\n",
      " No.of dropped harshit kumar : 0\n",
      " No.of dropped manish rai : 0\n",
      " No.of dropped rashmika_mandanna : 2\n",
      " No.of dropped tanmoy : 0\n"
     ]
    }
   ],
   "source": [
    "# Valid_folder_path = '/home/aritra/AML_Files/Facial_Valid'\n",
    "# Valid_face_folder_path = '/home/aritra/AML_Files/faces_Valid'\n",
    "# folder_names = sorted(os.listdir(Valid_folder_path))\n",
    "\n",
    "# for folder in folder_names:\n",
    "    \n",
    "#     if os.path.isdir(folder_path) and folder.startswith('.'):\n",
    "#         print(f'Skipping directory: {folder}')\n",
    "#         continue\n",
    "    \n",
    "#     print(f' No.of dropped {folder} : {len(os.listdir(os.path.join(Valid_folder_path,folder))) - len(os.listdir(os.path.join(Valid_face_folder_path,folder)))}')"
   ]
  },
  {
   "cell_type": "code",
   "execution_count": 2,
   "id": "588a21c8",
   "metadata": {
    "scrolled": true
   },
   "outputs": [],
   "source": [
    "# train_folder_path = '/home/aritra/AML_Files/Facial_Valid'\n",
    "# train_face_folder_path = '/home/aritra/AML_Files/faces_Valid'\n",
    "# folder_names = sorted(os.listdir(train_folder_path))\n",
    "\n",
    "# for folder in folder_names:\n",
    "#     print(f' No.of dropped {folder} : {len(os.listdir(os.path.join(train_folder_path,folder))) - len(os.listdir(os.path.join(train_face_folder_path,folder)))}')"
   ]
  },
  {
   "cell_type": "code",
   "execution_count": null,
   "id": "24006e06",
   "metadata": {},
   "outputs": [],
   "source": []
  },
  {
   "cell_type": "markdown",
   "id": "90723df3",
   "metadata": {},
   "source": [
    "# remaining data is automatically good for Test"
   ]
  },
  {
   "cell_type": "code",
   "execution_count": 30,
   "id": "932c1943",
   "metadata": {},
   "outputs": [
    {
     "name": "stdout",
     "output_type": "stream",
     "text": [
      " .ipynb_checkpoints : 0\n",
      " Aakash : 6\n",
      " Abhishek Kumar  : 8\n",
      " Adah_sharma : 7\n",
      " AditiShukla : 21\n",
      " Aditya_Sharma_12140070 : 9\n",
      " Alia : 9\n",
      " Amogh : 10\n",
      " Animesh Singh : 10\n",
      " Anumula Chaitanya Sai : 9\n",
      " Aritra : 10\n",
      " Aryan Kumar : 9\n",
      " Brishti : 18\n",
      " Deepika : 9\n",
      " Facial Data : 0\n",
      " Kishan : 8\n",
      " Mallikarjun : 9\n",
      " Mohit Agarwala : 10\n",
      " Moyank Giri : 11\n",
      " Naveetha : 5\n",
      " Prarabdh : 8\n",
      " Rahul_12310890 : 9\n",
      " Sanjib Patra  : 8\n",
      " Uplab Rajak : 10\n",
      " Vaibhav_Arora : 11\n",
      " Vishesh_Thakur : 9\n",
      " harshit kumar : 9\n",
      " manish rai : 8\n",
      " rashmika_mandanna : 5\n",
      " tanmoy : 9\n"
     ]
    }
   ],
   "source": [
    "folder_path = '/home/aritra/AML_Files/faces_Test'\n",
    "\n",
    "folder_names = sorted(os.listdir(folder_path))\n",
    "\n",
    "for folder in folder_names:\n",
    "    print(f' {folder} : {len(os.listdir(os.path.join(folder_path,folder)))}')"
   ]
  },
  {
   "cell_type": "code",
   "execution_count": null,
   "id": "a3c67a79",
   "metadata": {},
   "outputs": [],
   "source": []
  },
  {
   "cell_type": "code",
   "execution_count": 1,
   "id": "21e55f30",
   "metadata": {},
   "outputs": [],
   "source": [
    "# Valid_folder_path = '/home/aritra/AML_Files/Facial_Test'\n",
    "# Valid_face_folder_path = '/home/aritra/AML_Files/faces_Test'\n",
    "# folder_names = sorted(os.listdir(Valid_folder_path))\n",
    "\n",
    "# for folder in folder_names:\n",
    "    \n",
    "#     if os.path.isdir(folder_path) and folder.startswith('.'):\n",
    "#         print(f'Skipping directory: {folder}')\n",
    "#         continue\n",
    "    \n",
    "#     print(f' No.of dropped {folder} : {len(os.listdir(os.path.join(Valid_folder_path,folder))) - len(os.listdir(os.path.join(Valid_face_folder_path,folder)))}')"
   ]
  },
  {
   "cell_type": "code",
   "execution_count": null,
   "id": "368164e2",
   "metadata": {},
   "outputs": [],
   "source": []
  }
 ],
 "metadata": {
  "kernelspec": {
   "display_name": "Python 3 (ipykernel)",
   "language": "python",
   "name": "python3"
  },
  "language_info": {
   "codemirror_mode": {
    "name": "ipython",
    "version": 3
   },
   "file_extension": ".py",
   "mimetype": "text/x-python",
   "name": "python",
   "nbconvert_exporter": "python",
   "pygments_lexer": "ipython3",
   "version": "3.11.5"
  }
 },
 "nbformat": 4,
 "nbformat_minor": 5
}
