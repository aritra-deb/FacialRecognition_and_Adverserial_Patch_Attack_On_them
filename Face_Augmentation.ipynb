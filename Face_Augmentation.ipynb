{
 "cells": [
  {
   "cell_type": "code",
   "execution_count": 34,
   "id": "6c31cc06",
   "metadata": {},
   "outputs": [],
   "source": [
    "import os\n",
    "import cv2\n",
    "import albumentations as A\n",
    "from albumentations.pytorch import ToTensorV2"
   ]
  },
  {
   "cell_type": "code",
   "execution_count": 35,
   "id": "79d48821",
   "metadata": {},
   "outputs": [],
   "source": [
    "# Define the transformations you want to apply\n",
    "augmentation_transforms = [\n",
    "#     A.Rotate(limit=45, p=0.5, border_mode=cv2.BORDER_CONSTANT),\n",
    "    A.HorizontalFlip(p=0.5),\n",
    "    A.VerticalFlip(p=0.5),\n",
    "#     A.ShiftScaleRotate(shift_limit=0.2, scale_limit=0.0, rotate_limit=0, p=0.5, border_mode=cv2.BORDER_CONSTANT),\n",
    "#     A.GaussNoise(var_limit=(5.0, 20.0), p=0.5),\n",
    "]"
   ]
  },
  {
   "cell_type": "code",
   "execution_count": 36,
   "id": "ffb90bfa",
   "metadata": {},
   "outputs": [],
   "source": [
    "input_folder = '/home/aritra/AML_Files/faces_train'\n",
    "output_folder = '/home/aritra/AML_Files/faces_train_Augmented'"
   ]
  },
  {
   "cell_type": "code",
   "execution_count": 37,
   "id": "d3aed933",
   "metadata": {},
   "outputs": [
    {
     "ename": "TypeError",
     "evalue": "'list' object is not callable",
     "output_type": "error",
     "traceback": [
      "\u001b[0;31m---------------------------------------------------------------------------\u001b[0m",
      "\u001b[0;31mTypeError\u001b[0m                                 Traceback (most recent call last)",
      "Cell \u001b[0;32mIn[37], line 17\u001b[0m\n\u001b[1;32m     14\u001b[0m image \u001b[38;5;241m=\u001b[39m cv2\u001b[38;5;241m.\u001b[39mimread(image_path, cv2\u001b[38;5;241m.\u001b[39mIMREAD_UNCHANGED)\n\u001b[1;32m     16\u001b[0m \u001b[38;5;66;03m# Apply the augmentation\u001b[39;00m\n\u001b[0;32m---> 17\u001b[0m augmented \u001b[38;5;241m=\u001b[39m augmentation_transforms(image\u001b[38;5;241m=\u001b[39mimage)\n\u001b[1;32m     19\u001b[0m \u001b[38;5;66;03m# Crop the augmented image to the original size\u001b[39;00m\n\u001b[1;32m     20\u001b[0m augmented_image \u001b[38;5;241m=\u001b[39m augmented[\u001b[38;5;124m'\u001b[39m\u001b[38;5;124mimage\u001b[39m\u001b[38;5;124m'\u001b[39m][:image\u001b[38;5;241m.\u001b[39mshape[\u001b[38;5;241m0\u001b[39m], :image\u001b[38;5;241m.\u001b[39mshape[\u001b[38;5;241m1\u001b[39m]]\n",
      "\u001b[0;31mTypeError\u001b[0m: 'list' object is not callable"
     ]
    }
   ],
   "source": [
    "# Apply augmentations and save images\n",
    "for person_folder in os.listdir(input_folder):\n",
    "    input_person_path = os.path.join(input_folder, person_folder)\n",
    "    output_person_path = os.path.join(output_folder, f'{person_folder}')\n",
    "\n",
    "    # Create output folder for each person\n",
    "    os.makedirs(output_person_path, exist_ok=True)\n",
    "\n",
    "    for image_name in os.listdir(input_person_path):\n",
    "        image_path = os.path.join(input_person_path, image_name)\n",
    "        output_image_path = os.path.join(output_person_path, image_name)\n",
    "\n",
    "        # Read the image without color conversion\n",
    "        image = cv2.imread(image_path, cv2.IMREAD_UNCHANGED)\n",
    "\n",
    "        # Apply the augmentation\n",
    "        augmented = augmentation_transforms(image=image)\n",
    "\n",
    "        # Crop the augmented image to the original size\n",
    "        augmented_image = augmented['image'][:image.shape[0], :image.shape[1]]\n",
    "\n",
    "        # Convert to uint8 if necessary\n",
    "        augmented_image = augmented_image.astype('uint8')\n",
    "\n",
    "        # Save augmented image\n",
    "        cv2.imwrite(output_image_path, augmented_image)"
   ]
  },
  {
   "cell_type": "code",
   "execution_count": 39,
   "id": "13594311",
   "metadata": {},
   "outputs": [],
   "source": [
    "import os\n",
    "import cv2\n",
    "import albumentations as A\n",
    "from albumentations.pytorch import ToTensorV2\n",
    "\n",
    "# Define the transformations you want to apply\n",
    "augmentation_transforms = [\n",
    "#     A.Rotate(limit=45, p=0.5, border_mode=cv2.BORDER_CONSTANT),\n",
    "    A.HorizontalFlip(p=0.5),\n",
    "    A.VerticalFlip(p=0.5),\n",
    "#     A.ShiftScaleRotate(shift_limit=0.2, scale_limit=0.0, rotate_limit=0, p=0.5, border_mode=cv2.BORDER_CONSTANT),\n",
    "#     A.GaussNoise(var_limit=(5.0, 20.0), p=0.5),\n",
    "]\n",
    "\n",
    "# Input and output folders\n",
    "input_folder = '/home/aritra/AML_Files/faces_train'\n",
    "output_folder = '/home/aritra/AML_Files/faces_train_Augmented'\n",
    "\n",
    "# Create output folder if it doesn't exist\n",
    "os.makedirs(output_folder, exist_ok=True)\n",
    "\n",
    "# Apply each augmentation separately and save images\n",
    "for transform in augmentation_transforms:\n",
    "    transform_name = transform.__class__.__name__\n",
    "\n",
    "    for person_folder in os.listdir(input_folder):\n",
    "        input_person_path = os.path.join(input_folder, person_folder)\n",
    "        output_person_path = os.path.join(output_folder, f'{person_folder}_{transform_name}')\n",
    "\n",
    "        # Create output folder for each person and augmentation\n",
    "        os.makedirs(output_person_path, exist_ok=True)\n",
    "\n",
    "        for image_name in os.listdir(input_person_path):\n",
    "            image_path = os.path.join(input_person_path, image_name)\n",
    "            output_image_path = os.path.join(output_person_path, image_name)\n",
    "\n",
    "            # Read the image without color conversion\n",
    "            image = cv2.imread(image_path, cv2.IMREAD_UNCHANGED)\n",
    "\n",
    "            # Apply the augmentation\n",
    "            augmented = A.Compose([transform])(image=image)\n",
    "\n",
    "            # Crop the augmented image to the original size\n",
    "            augmented_image = augmented['image'][:image.shape[0], :image.shape[1]]\n",
    "\n",
    "            # Convert to uint8 if necessary\n",
    "            augmented_image = augmented_image.astype('uint8')\n",
    "\n",
    "            # Save augmented image\n",
    "            cv2.imwrite(output_image_path, augmented_image)\n"
   ]
  },
  {
   "cell_type": "code",
   "execution_count": null,
   "id": "6b683cac",
   "metadata": {},
   "outputs": [],
   "source": []
  },
  {
   "cell_type": "code",
   "execution_count": null,
   "id": "c4b6b04e",
   "metadata": {},
   "outputs": [],
   "source": []
  }
 ],
 "metadata": {
  "kernelspec": {
   "display_name": "Python 3 (ipykernel)",
   "language": "python",
   "name": "python3"
  },
  "language_info": {
   "codemirror_mode": {
    "name": "ipython",
    "version": 3
   },
   "file_extension": ".py",
   "mimetype": "text/x-python",
   "name": "python",
   "nbconvert_exporter": "python",
   "pygments_lexer": "ipython3",
   "version": "3.11.5"
  }
 },
 "nbformat": 4,
 "nbformat_minor": 5
}
